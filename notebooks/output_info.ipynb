{
 "cells": [
  {
   "attachments": {},
   "cell_type": "markdown",
   "metadata": {},
   "source": [
    "## Look at details of model output"
   ]
  },
  {
   "attachments": {},
   "cell_type": "markdown",
   "metadata": {},
   "source": [
    "### Imports and Installations"
   ]
  },
  {
   "cell_type": "code",
   "execution_count": null,
   "metadata": {},
   "outputs": [],
   "source": [
    "#pip install pandas"
   ]
  },
  {
   "cell_type": "code",
   "execution_count": null,
   "metadata": {},
   "outputs": [],
   "source": [
    "#pip install matplotlib"
   ]
  },
  {
   "cell_type": "code",
   "execution_count": null,
   "metadata": {},
   "outputs": [],
   "source": [
    "#pip install lxml"
   ]
  },
  {
   "cell_type": "code",
   "execution_count": 6,
   "metadata": {},
   "outputs": [],
   "source": [
    "import pandas as pd\n",
    "import matplotlib.pyplot as plt\n",
    "import lxml.etree as ET\n",
    "import xml.etree.ElementTree as et\n",
    "#import ElementTree as ET"
   ]
  },
  {
   "attachments": {},
   "cell_type": "markdown",
   "metadata": {},
   "source": [
    "### Emission Output Basic Model"
   ]
  },
  {
   "cell_type": "code",
   "execution_count": 7,
   "metadata": {},
   "outputs": [],
   "source": [
    "df_cols = [\"time\",\"id\", \"eclass\", \"CO2\", \"CO\", \"HC\", \"PMx\", \"NOx\",\"PMx\", \"fuel\",\"electricity\", \"route\" ,\"type\" ,\"noise\", \"waiting\", \"lane\" , \"pos\" , \"speed\", \"angle\", \"x\", \"route\", \"y\"]"
   ]
  },
  {
   "cell_type": "code",
   "execution_count": 8,
   "metadata": {},
   "outputs": [],
   "source": [
    "def parse_XML(xml_file, df_cols): \n",
    "    \"\"\"Parse the input XML file and store the result in a pandas \n",
    "    DataFrame with the given columns. \n",
    "    \"\"\"\n",
    "    out_df = pd.DataFrame(columns = df_cols)\n",
    "    xtree = et.parse(xml_file)\n",
    "    xroot = xtree.getroot()\n",
    "\n",
    "    \n",
    "    for node in xroot: \n",
    "        rows = []\n",
    "        j = 0\n",
    "        for element in node:\n",
    "            res = []\n",
    "            res.append(node.attrib.get(df_cols[0]))\n",
    "            \n",
    "            for el in df_cols[1:]:\n",
    "                if node is not None and element.get(el) is not None:\n",
    "                    res.append(element.get(el))\n",
    "                else: \n",
    "                    res.append(None)\n",
    "            rows.append({df_cols[i]: res[i] \n",
    "                        for i, _ in enumerate(df_cols)})\n",
    "    \n",
    "            out_df.loc[len(out_df)] = rows[j] \n",
    "            j += 1\n",
    "        \n",
    "        #print(node.attrib.get(df_cols[0]))\n",
    "        \n",
    "    return out_df"
   ]
  },
  {
   "cell_type": "code",
   "execution_count": 11,
   "metadata": {},
   "outputs": [],
   "source": [
    "emission_info = parse_XML('../src/data/2023-04-06-17-43-39emission_info.xml', df_cols)"
   ]
  },
  {
   "cell_type": "code",
   "execution_count": 7,
   "metadata": {},
   "outputs": [],
   "source": [
    "emission_info.to_csv('../src/data/emission_info.csv')"
   ]
  },
  {
   "cell_type": "code",
   "execution_count": 10,
   "metadata": {},
   "outputs": [
    {
     "ename": "NameError",
     "evalue": "name 'emission_info' is not defined",
     "output_type": "error",
     "traceback": [
      "\u001b[0;31m---------------------------------------------------------------------------\u001b[0m",
      "\u001b[0;31mNameError\u001b[0m                                 Traceback (most recent call last)",
      "Cell \u001b[0;32mIn[10], line 1\u001b[0m\n\u001b[0;32m----> 1\u001b[0m emission_info\n",
      "\u001b[0;31mNameError\u001b[0m: name 'emission_info' is not defined"
     ]
    }
   ],
   "source": [
    "emission_info"
   ]
  },
  {
   "cell_type": "code",
   "execution_count": 8,
   "metadata": {},
   "outputs": [
    {
     "data": {
      "text/plain": [
       "array(['bike0', 'bus0', 'moto0', 'ship0', 'tram_2:0.0', 'tram_3:1.0',\n",
       "       'truck0', 'veh0', 'truck1', 'veh1', 'bike1', 'moto1', 'truck2',\n",
       "       'veh2', 'truck3', 'veh3', 'bike2', 'moto2', 'truck4', 'veh4',\n",
       "       'bike3', 'moto3', 'truck5', 'veh5', 'truck6', 'veh6', 'bike4',\n",
       "       'moto4', 'veh7', 'truck8', 'veh8', 'bike5', 'moto5', 'truck9'],\n",
       "      dtype=object)"
      ]
     },
     "execution_count": 8,
     "metadata": {},
     "output_type": "execute_result"
    }
   ],
   "source": [
    "emission_info.id.unique()"
   ]
  },
  {
   "cell_type": "code",
   "execution_count": null,
   "metadata": {},
   "outputs": [],
   "source": []
  }
 ],
 "metadata": {
  "kernelspec": {
   "display_name": "venv",
   "language": "python",
   "name": "python3"
  },
  "language_info": {
   "codemirror_mode": {
    "name": "ipython",
    "version": 3
   },
   "file_extension": ".py",
   "mimetype": "text/x-python",
   "name": "python",
   "nbconvert_exporter": "python",
   "pygments_lexer": "ipython3",
   "version": "3.11.2"
  },
  "orig_nbformat": 4
 },
 "nbformat": 4,
 "nbformat_minor": 2
}
