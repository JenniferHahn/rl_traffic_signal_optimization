{
 "cells": [
  {
   "cell_type": "code",
   "execution_count": 1,
   "metadata": {},
   "outputs": [],
   "source": [
    "import pandas as pd\n",
    "import xml.etree.ElementTree as ET"
   ]
  },
  {
   "cell_type": "markdown",
   "metadata": {},
   "source": [
    "### Analyse and identify traffic/emission heavy junction"
   ]
  },
  {
   "cell_type": "code",
   "execution_count": 5,
   "metadata": {},
   "outputs": [],
   "source": [
    "def calculate_junction_emissions(xml_file):\n",
    "    \n",
    "    '''\n",
    "    Function to calculate the total emissions for each pollutant at each junction.\n",
    "    '''\n",
    "    \n",
    "    tree = ET.parse(xml_file)\n",
    "    root = tree.getroot()\n",
    "\n",
    "    junction_emissions = {}\n",
    "\n",
    "    for timestep in root.findall('timestep'):\n",
    "        for vehicle in timestep.findall('vehicle'):\n",
    "            junction = vehicle.get('lane').split('_')[0]  # Extract junction ID from lane ID\n",
    "            emissions = {\n",
    "                'CO2': float(vehicle.get('CO2')),\n",
    "                'CO': float(vehicle.get('CO')),\n",
    "                'HC': float(vehicle.get('HC')),\n",
    "                'NOx': float(vehicle.get('NOx')),\n",
    "                'PMx': float(vehicle.get('PMx')),\n",
    "                'fuel': float(vehicle.get('fuel')),\n",
    "                'noise': float(vehicle.get('noise'))\n",
    "            }\n",
    "\n",
    "            if junction in junction_emissions:\n",
    "                for pollutant in emissions:\n",
    "                    junction_emissions[junction][pollutant] += emissions[pollutant]\n",
    "            else:\n",
    "                junction_emissions[junction] = emissions\n",
    "\n",
    "    return junction_emissions\n"
   ]
  },
  {
   "cell_type": "code",
   "execution_count": 6,
   "metadata": {},
   "outputs": [],
   "source": [
    "junction_emissions = calculate_junction_emissions('../src/data/actuated_output/2023-07-20-21-05-25emission_info_actuated_TL.xml')"
   ]
  },
  {
   "cell_type": "code",
   "execution_count": null,
   "metadata": {},
   "outputs": [],
   "source": [
    "def find_emission_heavy_junctions(junction_emissions, pollutant='CO2', num_junctions=5):\n",
    "    sorted_junctions = sorted(junction_emissions.items(), key=lambda x: x[1][pollutant], reverse=True)\n",
    "    return sorted_junctions[:num_junctions]\n"
   ]
  }
 ],
 "metadata": {
  "kernelspec": {
   "display_name": "Python 3",
   "language": "python",
   "name": "python3"
  },
  "language_info": {
   "codemirror_mode": {
    "name": "ipython",
    "version": 3
   },
   "file_extension": ".py",
   "mimetype": "text/x-python",
   "name": "python",
   "nbconvert_exporter": "python",
   "pygments_lexer": "ipython3",
   "version": "3.11.2"
  },
  "orig_nbformat": 4
 },
 "nbformat": 4,
 "nbformat_minor": 2
}
