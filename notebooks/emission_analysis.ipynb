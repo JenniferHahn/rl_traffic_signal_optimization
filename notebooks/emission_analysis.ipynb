{
 "cells": [
  {
   "cell_type": "code",
   "execution_count": null,
   "metadata": {},
   "outputs": [],
   "source": [
    "import pandas as pd\n",
    "import xml.etree.ElementTree as ET"
   ]
  },
  {
   "cell_type": "markdown",
   "metadata": {},
   "source": [
    "### Analyse and identify traffic/emission heavy junction"
   ]
  },
  {
   "cell_type": "code",
   "execution_count": null,
   "metadata": {},
   "outputs": [],
   "source": [
    "def calculate_junction_emissions(xml_file):\n",
    "    \n",
    "    '''\n",
    "    Function to calculate the total emissions for each pollutant at each junction.\n",
    "    '''\n",
    "    \n",
    "    tree = ET.parse(xml_file)\n",
    "    root = tree.getroot()\n",
    "\n",
    "    junction_emissions = {}\n",
    "\n",
    "    for timestep in root.findall('timestep'):\n",
    "        for vehicle in timestep.findall('vehicle'):\n",
    "            junction = vehicle.get('lane').split('_')[0]  # Extract junction ID from lane ID\n",
    "            emissions = {\n",
    "                'CO2': float(vehicle.get('CO2')),\n",
    "                'CO': float(vehicle.get('CO')),\n",
    "                'HC': float(vehicle.get('HC')),\n",
    "                'NOx': float(vehicle.get('NOx')),\n",
    "                'PMx': float(vehicle.get('PMx')),\n",
    "                'fuel': float(vehicle.get('fuel')),\n",
    "                'electricity': float(vehicle.get('electricity')),\n",
    "                'noise': float(vehicle.get('noise'))\n",
    "            }\n",
    "\n",
    "            if junction in junction_emissions:\n",
    "                for pollutant in emissions:\n",
    "                    junction_emissions[junction][pollutant] += emissions[pollutant]\n",
    "            else:\n",
    "                junction_emissions[junction] = emissions\n",
    "\n",
    "    return junction_emissions\n"
   ]
  },
  {
   "cell_type": "code",
   "execution_count": null,
   "metadata": {},
   "outputs": [],
   "source": [
    "def find_emission_heavy_junctions(junction_emissions, pollutant='CO2', num_junctions=5):\n",
    "    sorted_junctions = sorted(junction_emissions.items(), key=lambda x: x[1][pollutant], reverse=True)\n",
    "    return sorted_junctions[:num_junctions]\n"
   ]
  }
 ],
 "metadata": {
  "language_info": {
   "name": "python"
  },
  "orig_nbformat": 4
 },
 "nbformat": 4,
 "nbformat_minor": 2
}
