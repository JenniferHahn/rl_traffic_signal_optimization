{
 "cells": [
  {
   "cell_type": "markdown",
   "metadata": {},
   "source": [
    "### Notebook to Analyse and Plot Simulation Results\n",
    "\n",
    "The code is adapted from [sumo-rl](https://github.com/LucasAlegre/sumo-rl/blob/main/outputs/plot.py)."
   ]
  },
  {
   "cell_type": "markdown",
   "metadata": {},
   "source": [
    "#### Imports"
   ]
  },
  {
   "cell_type": "code",
   "execution_count": 2,
   "metadata": {},
   "outputs": [],
   "source": [
    "import argparse\n",
    "import glob\n",
    "from itertools import cycle\n",
    "import os\n",
    "\n",
    "import matplotlib.pyplot as plt\n",
    "plt.rcParams.update(plt.rcParamsDefault)\n",
    "import numpy as np\n",
    "import pandas as pd\n",
    "import seaborn as sns"
   ]
  },
  {
   "cell_type": "markdown",
   "metadata": {},
   "source": [
    "#### Plot Settings"
   ]
  },
  {
   "cell_type": "code",
   "execution_count": 3,
   "metadata": {},
   "outputs": [],
   "source": [
    "sns.set(\n",
    "    style=\"darkgrid\",\n",
    "    rc={\n",
    "        \"figure.figsize\": (7.2, 4.45),\n",
    "        #\"text.usetex\": True,\n",
    "        \"xtick.labelsize\": 16,\n",
    "        \"ytick.labelsize\": 16,\n",
    "        \"font.size\": 15,\n",
    "        \"figure.autolayout\": True,\n",
    "        \"axes.titlesize\": 16,\n",
    "        \"axes.labelsize\": 17,\n",
    "        \"lines.linewidth\": 2,\n",
    "        \"lines.markersize\": 6,\n",
    "        \"legend.fontsize\": 15,\n",
    "    },\n",
    ")\n",
    "colors = sns.color_palette(\"colorblind\", 4)\n",
    "# colors = sns.color_palette(\"Set1\", 2)\n",
    "# colors = ['#FF4500','#e31a1c','#329932', 'b', 'b', '#6a3d9a','#fb9a99']\n",
    "dashes_styles = cycle([\"-\", \"-.\", \"--\", \":\"])\n",
    "sns.set_palette(colors)\n",
    "colors = cycle(colors)"
   ]
  },
  {
   "cell_type": "code",
   "execution_count": 4,
   "metadata": {},
   "outputs": [],
   "source": [
    "# functions\n",
    "\n",
    "def moving_average(interval, window_size):\n",
    "    if window_size == 1:\n",
    "        return interval\n",
    "    window = np.ones(int(window_size)) / float(window_size)\n",
    "    return np.convolve(interval, window, \"same\")\n",
    "\n",
    "\n",
    "def plot_df(df, color, xaxis, yaxis, ma=1, label=\"\"):\n",
    "    df[yaxis] = pd.to_numeric(df[yaxis], errors=\"coerce\")  # convert NaN string to NaN value\n",
    "\n",
    "    mean = df.groupby(xaxis).mean()[yaxis]\n",
    "    std = df.groupby(xaxis).std()[yaxis]\n",
    "    if ma > 1:\n",
    "        mean = moving_average(mean, ma)\n",
    "        std = moving_average(std, ma)\n",
    "\n",
    "    x = df.groupby(xaxis)[xaxis].mean().keys().values\n",
    "    plt.plot(x, mean, label=label, color=color, linestyle=next(dashes_styles))\n",
    "    plt.fill_between(x, mean + std, mean - std, alpha=0.25, color=color, rasterized=True)\n",
    "\n",
    "    # plt.ylim([0,200])\n",
    "    # plt.xlim([40000, 70000])\n"
   ]
  },
  {
   "cell_type": "code",
   "execution_count": 6,
   "metadata": {},
   "outputs": [
    {
     "name": "stderr",
     "output_type": "stream",
     "text": [
      "usage: ipykernel_launcher.py [-h] [-f F [F ...]] [-l L [L ...]] [-t T]\n",
      "                             [-yaxis YAXIS] [-xaxis XAXIS] [-ma MA] [-sep SEP]\n",
      "                             [-xlabel XLABEL] [-ylabel YLABEL]\n",
      "                             [-output OUTPUT]\n",
      "ipykernel_launcher.py: error: unrecognized arguments: --ip=127.0.0.1 --stdin=9003 --control=9001 --hb=9000 --Session.signature_scheme=\"hmac-sha256\" --Session.key=b\"260a1c88-6676-4c00-b9e1-50b77abe4b73\" --shell=9002 --transport=\"tcp\" --iopub=9004 --f=/Users/jenniferhahn/Library/Jupyter/runtime/kernel-v2-50194DgU2QoLCCvlJ.json\n"
     ]
    },
    {
     "ename": "SystemExit",
     "evalue": "2",
     "output_type": "error",
     "traceback": [
      "An exception has occurred, use %tb to see the full traceback.\n",
      "\u001b[0;31mSystemExit\u001b[0m\u001b[0;31m:\u001b[0m 2\n"
     ]
    },
    {
     "name": "stderr",
     "output_type": "stream",
     "text": [
      "/Users/jenniferhahn/Documents/GitHub/sumovenv/lib/python3.9/site-packages/IPython/core/interactiveshell.py:3516: UserWarning: To exit: use 'exit', 'quit', or Ctrl-D.\n",
      "  warn(\"To exit: use 'exit', 'quit', or Ctrl-D.\", stacklevel=1)\n"
     ]
    }
   ],
   "source": [
    "\n",
    "prs = argparse.ArgumentParser(\n",
    "    formatter_class=argparse.ArgumentDefaultsHelpFormatter, description=\"\"\"Plot Traffic Signal Metrics\"\"\"\n",
    ")\n",
    "prs.add_argument(\"-f\", nargs=\"+\", default=\"../src/data/model_outputs/\", required=False, help=\"Measures files\\n\")\n",
    "prs.add_argument(\"-l\", nargs=\"+\", default=None, help=\"File's legends\\n\")\n",
    "prs.add_argument(\"-t\", type=str, default=\"\", help=\"Plot title\\n\")\n",
    "prs.add_argument(\"-yaxis\", type=str, default=\"system_total_waiting_time\", help=\"The column to plot.\\n\")\n",
    "prs.add_argument(\"-xaxis\", type=str, default=\"step\", help=\"The x axis.\\n\")\n",
    "prs.add_argument(\"-ma\", type=int, default=1, help=\"Moving Average Window.\\n\")\n",
    "prs.add_argument(\"-sep\", type=str, default=\",\", help=\"Values separator on file.\\n\")\n",
    "prs.add_argument(\"-xlabel\", type=str, default=\"Time step (seconds)\", help=\"X axis label.\\n\")\n",
    "prs.add_argument(\"-ylabel\", type=str, default=\"Total waiting time (s)\", help=\"Y axis label.\\n\")\n",
    "prs.add_argument(\"-output\", type=str, default=\"sumo-rl/outputs/plot_MA_PPO\", help=\"PDF output filename.\\n\")\n",
    "\n",
    "args = prs.parse_args()\n",
    "labels = cycle(args.l) if args.l is not None else cycle([str(i) for i in range(len(args.f))])\n",
    "\n",
    "plt.figure()\n",
    "\n",
    "# JH: new line of code\n",
    "# main_df = pd.read_csv('sumo-rl/outputs/2way-single-intersection/dqn_conn0_ep2.csv')\n",
    "# main_df = main_df[['step', 'system_total_waiting_time']]\n",
    "\n",
    "#File reading and grouping\n",
    "# for file in os.dir(args.f):\n",
    "#     main_df = pd.DataFrame()\n",
    "#     for f in glob.glob(file + \"*\"):\n",
    "#         df = pd.read_csv(f, sep=args.sep)\n",
    "#         if main_df.empty:\n",
    "#             main_df = df\n",
    "#         else:\n",
    "#             main_df = pd.concat((main_df, df))\n",
    "\n"
   ]
  },
  {
   "cell_type": "code",
   "execution_count": 5,
   "metadata": {},
   "outputs": [
    {
     "ename": "NameError",
     "evalue": "name 'args' is not defined",
     "output_type": "error",
     "traceback": [
      "\u001b[0;31m---------------------------------------------------------------------------\u001b[0m",
      "\u001b[0;31mNameError\u001b[0m                                 Traceback (most recent call last)",
      "Cell \u001b[0;32mIn[5], line 1\u001b[0m\n\u001b[0;32m----> 1\u001b[0m \u001b[39mfor\u001b[39;00m file \u001b[39min\u001b[39;00m os\u001b[39m.\u001b[39mlistdir(args\u001b[39m.\u001b[39mf):\n\u001b[1;32m      2\u001b[0m     \u001b[39mif\u001b[39;00m file\u001b[39m.\u001b[39mstartswith(\u001b[39m'\u001b[39m\u001b[39mwaitingTime\u001b[39m\u001b[39m'\u001b[39m):\n\u001b[1;32m      3\u001b[0m         main_df \u001b[39m=\u001b[39m pd\u001b[39m.\u001b[39mDataFrame()\n",
      "\u001b[0;31mNameError\u001b[0m: name 'args' is not defined"
     ]
    }
   ],
   "source": [
    "for file in os.listdir(args.f):\n",
    "    if file.startswith('waitingTime'):\n",
    "        main_df = pd.DataFrame()\n",
    "        main_df = pd.read_csv(args.f + file)\n",
    "        main_df = main_df[[args.xaxis, args.yaxis]]\n",
    "\n",
    "        # Plot DataFrame\n",
    "        plot_df(main_df, xaxis=args.xaxis, yaxis=args.yaxis, label=next(labels), color=next(colors), ma=args.ma)\n",
    "\n",
    "plt.title(args.t)\n",
    "plt.ylabel(args.ylabel)\n",
    "plt.xlabel(args.xlabel)\n",
    "plt.ylim(bottom=0)\n",
    "\n",
    "if args.output is not None:\n",
    "    plt.savefig(args.output + \".pdf\", bbox_inches=\"tight\")\n",
    "\n",
    "plt.show()"
   ]
  },
  {
   "cell_type": "code",
   "execution_count": null,
   "metadata": {},
   "outputs": [],
   "source": []
  }
 ],
 "metadata": {
  "kernelspec": {
   "display_name": "sumovenv",
   "language": "python",
   "name": "python3"
  },
  "language_info": {
   "codemirror_mode": {
    "name": "ipython",
    "version": 3
   },
   "file_extension": ".py",
   "mimetype": "text/x-python",
   "name": "python",
   "nbconvert_exporter": "python",
   "pygments_lexer": "ipython3",
   "version": "3.9.6"
  },
  "orig_nbformat": 4
 },
 "nbformat": 4,
 "nbformat_minor": 2
}
